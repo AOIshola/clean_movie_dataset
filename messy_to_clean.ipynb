{
 "cells": [
  {
   "cell_type": "code",
   "execution_count": 2,
   "metadata": {},
   "outputs": [],
   "source": [
    "import pandas as pd\n",
    "import numpy as np"
   ]
  },
  {
   "cell_type": "code",
   "execution_count": 3,
   "metadata": {},
   "outputs": [],
   "source": [
    "df = pd.read_csv(\"./messy_data.csv\", encoding='latin-1',sep=';')"
   ]
  },
  {
   "cell_type": "code",
   "execution_count": 4,
   "metadata": {},
   "outputs": [
    {
     "data": {
      "text/html": [
       "<div>\n",
       "<style scoped>\n",
       "    .dataframe tbody tr th:only-of-type {\n",
       "        vertical-align: middle;\n",
       "    }\n",
       "\n",
       "    .dataframe tbody tr th {\n",
       "        vertical-align: top;\n",
       "    }\n",
       "\n",
       "    .dataframe thead th {\n",
       "        text-align: right;\n",
       "    }\n",
       "</style>\n",
       "<table border=\"1\" class=\"dataframe\">\n",
       "  <thead>\n",
       "    <tr style=\"text-align: right;\">\n",
       "      <th></th>\n",
       "      <th>IMBD title ID</th>\n",
       "      <th>Original titlÊ</th>\n",
       "      <th>Release year</th>\n",
       "      <th>Genrë¨</th>\n",
       "      <th>Duration</th>\n",
       "      <th>Country</th>\n",
       "      <th>Content Rating</th>\n",
       "      <th>Director</th>\n",
       "      <th>Unnamed: 8</th>\n",
       "      <th>Income</th>\n",
       "      <th>Votes</th>\n",
       "      <th>Score</th>\n",
       "    </tr>\n",
       "  </thead>\n",
       "  <tbody>\n",
       "    <tr>\n",
       "      <th>0</th>\n",
       "      <td>tt0111161</td>\n",
       "      <td>The Shawshank Redemption</td>\n",
       "      <td>1995-02-10</td>\n",
       "      <td>Drama</td>\n",
       "      <td>142</td>\n",
       "      <td>USA</td>\n",
       "      <td>R</td>\n",
       "      <td>Frank Darabont</td>\n",
       "      <td>NaN</td>\n",
       "      <td>$ 28815245</td>\n",
       "      <td>2.278.845</td>\n",
       "      <td>9.3</td>\n",
       "    </tr>\n",
       "    <tr>\n",
       "      <th>1</th>\n",
       "      <td>tt0068646</td>\n",
       "      <td>The Godfather</td>\n",
       "      <td>09 21 1972</td>\n",
       "      <td>Crime, Drama</td>\n",
       "      <td>175</td>\n",
       "      <td>USA</td>\n",
       "      <td>R</td>\n",
       "      <td>Francis Ford Coppola</td>\n",
       "      <td>NaN</td>\n",
       "      <td>$ 246120974</td>\n",
       "      <td>1.572.674</td>\n",
       "      <td>9.2</td>\n",
       "    </tr>\n",
       "    <tr>\n",
       "      <th>2</th>\n",
       "      <td>tt0468569</td>\n",
       "      <td>The Dark Knight</td>\n",
       "      <td>23 -07-2008</td>\n",
       "      <td>Action, Crime, Drama</td>\n",
       "      <td>152</td>\n",
       "      <td>US</td>\n",
       "      <td>PG-13</td>\n",
       "      <td>Christopher Nolan</td>\n",
       "      <td>NaN</td>\n",
       "      <td>$ 1005455211</td>\n",
       "      <td>2.241.615</td>\n",
       "      <td>9.</td>\n",
       "    </tr>\n",
       "    <tr>\n",
       "      <th>3</th>\n",
       "      <td>tt0071562</td>\n",
       "      <td>The Godfather: Part II</td>\n",
       "      <td>1975-09-25</td>\n",
       "      <td>Crime, Drama</td>\n",
       "      <td>220</td>\n",
       "      <td>USA</td>\n",
       "      <td>R</td>\n",
       "      <td>Francis Ford Coppola</td>\n",
       "      <td>NaN</td>\n",
       "      <td>$ 4o8,035,783</td>\n",
       "      <td>1.098.714</td>\n",
       "      <td>9,.0</td>\n",
       "    </tr>\n",
       "    <tr>\n",
       "      <th>4</th>\n",
       "      <td>tt0110912</td>\n",
       "      <td>Pulp Fiction</td>\n",
       "      <td>1994-10-28</td>\n",
       "      <td>Crime, Drama</td>\n",
       "      <td></td>\n",
       "      <td>USA</td>\n",
       "      <td>R</td>\n",
       "      <td>Quentin Tarantino</td>\n",
       "      <td>NaN</td>\n",
       "      <td>$ 222831817</td>\n",
       "      <td>1.780.147</td>\n",
       "      <td>8,9f</td>\n",
       "    </tr>\n",
       "  </tbody>\n",
       "</table>\n",
       "</div>"
      ],
      "text/plain": [
       "  IMBD title ID            Original titlÊ  Release year                Genrë¨  \\\n",
       "0     tt0111161  The Shawshank Redemption    1995-02-10                 Drama   \n",
       "1     tt0068646             The Godfather    09 21 1972          Crime, Drama   \n",
       "2     tt0468569           The Dark Knight   23 -07-2008  Action, Crime, Drama   \n",
       "3     tt0071562    The Godfather: Part II    1975-09-25          Crime, Drama   \n",
       "4     tt0110912              Pulp Fiction    1994-10-28          Crime, Drama   \n",
       "\n",
       "  Duration Country Content Rating              Director  Unnamed: 8  \\\n",
       "0      142     USA              R        Frank Darabont         NaN   \n",
       "1      175     USA              R  Francis Ford Coppola         NaN   \n",
       "2      152      US          PG-13     Christopher Nolan         NaN   \n",
       "3      220     USA              R  Francis Ford Coppola         NaN   \n",
       "4              USA              R     Quentin Tarantino         NaN   \n",
       "\n",
       "          Income     Votes  Score  \n",
       "0     $ 28815245  2.278.845   9.3  \n",
       "1    $ 246120974  1.572.674   9.2  \n",
       "2   $ 1005455211  2.241.615    9.  \n",
       "3  $ 4o8,035,783  1.098.714  9,.0  \n",
       "4    $ 222831817  1.780.147  8,9f  "
      ]
     },
     "execution_count": 4,
     "metadata": {},
     "output_type": "execute_result"
    }
   ],
   "source": [
    "df.head()"
   ]
  },
  {
   "cell_type": "code",
   "execution_count": 5,
   "metadata": {},
   "outputs": [
    {
     "data": {
      "text/html": [
       "<div>\n",
       "<style scoped>\n",
       "    .dataframe tbody tr th:only-of-type {\n",
       "        vertical-align: middle;\n",
       "    }\n",
       "\n",
       "    .dataframe tbody tr th {\n",
       "        vertical-align: top;\n",
       "    }\n",
       "\n",
       "    .dataframe thead th {\n",
       "        text-align: right;\n",
       "    }\n",
       "</style>\n",
       "<table border=\"1\" class=\"dataframe\">\n",
       "  <thead>\n",
       "    <tr style=\"text-align: right;\">\n",
       "      <th></th>\n",
       "      <th>IMBD title ID</th>\n",
       "      <th>Original titlÊ</th>\n",
       "      <th>Release year</th>\n",
       "      <th>Genrë¨</th>\n",
       "      <th>Duration</th>\n",
       "      <th>Country</th>\n",
       "      <th>Content Rating</th>\n",
       "      <th>Director</th>\n",
       "      <th>Unnamed: 8</th>\n",
       "      <th>Income</th>\n",
       "      <th>Votes</th>\n",
       "      <th>Score</th>\n",
       "    </tr>\n",
       "  </thead>\n",
       "  <tbody>\n",
       "    <tr>\n",
       "      <th>96</th>\n",
       "      <td>tt0070735</td>\n",
       "      <td>The Sting</td>\n",
       "      <td>1974-03-21</td>\n",
       "      <td>Comedy, Crime, Drama</td>\n",
       "      <td>129</td>\n",
       "      <td>USA</td>\n",
       "      <td>PG</td>\n",
       "      <td>George Roy Hill</td>\n",
       "      <td>NaN</td>\n",
       "      <td>$ 156000000</td>\n",
       "      <td>236.285</td>\n",
       "      <td>7.5</td>\n",
       "    </tr>\n",
       "    <tr>\n",
       "      <th>97</th>\n",
       "      <td>tt0082096</td>\n",
       "      <td>Das Boot</td>\n",
       "      <td>1982-03-18</td>\n",
       "      <td>Adventure, Drama, Thriller</td>\n",
       "      <td>149</td>\n",
       "      <td>West Germany</td>\n",
       "      <td>R</td>\n",
       "      <td>Wolfgang Petersen</td>\n",
       "      <td>NaN</td>\n",
       "      <td>$ 11487676</td>\n",
       "      <td>226.427</td>\n",
       "      <td>7.5</td>\n",
       "    </tr>\n",
       "    <tr>\n",
       "      <th>98</th>\n",
       "      <td>tt0059578</td>\n",
       "      <td>Per qualche dollaro in piÃ¹</td>\n",
       "      <td>1965-12-20</td>\n",
       "      <td>Western</td>\n",
       "      <td>132</td>\n",
       "      <td>Italy</td>\n",
       "      <td>NaN</td>\n",
       "      <td>Sergio Leone</td>\n",
       "      <td>NaN</td>\n",
       "      <td>$ 15000000</td>\n",
       "      <td>226.039</td>\n",
       "      <td>7.4</td>\n",
       "    </tr>\n",
       "    <tr>\n",
       "      <th>99</th>\n",
       "      <td>tt1832382</td>\n",
       "      <td>Jodaeiye Nader az Simin</td>\n",
       "      <td>2011-10-21</td>\n",
       "      <td>Drama</td>\n",
       "      <td>123</td>\n",
       "      <td>Iran</td>\n",
       "      <td>PG-13</td>\n",
       "      <td>Asghar Farhadi</td>\n",
       "      <td>NaN</td>\n",
       "      <td>$ 22926076</td>\n",
       "      <td>214.165</td>\n",
       "      <td>7.4</td>\n",
       "    </tr>\n",
       "    <tr>\n",
       "      <th>100</th>\n",
       "      <td>tt0045152</td>\n",
       "      <td>Singin' in the Rain</td>\n",
       "      <td>1953-02-05</td>\n",
       "      <td>Comedy, Musical, Romance</td>\n",
       "      <td>103</td>\n",
       "      <td>USA</td>\n",
       "      <td>NaN</td>\n",
       "      <td>Stanley Donen</td>\n",
       "      <td>NaN</td>\n",
       "      <td>$ 1864182</td>\n",
       "      <td>213.152</td>\n",
       "      <td>7.4</td>\n",
       "    </tr>\n",
       "  </tbody>\n",
       "</table>\n",
       "</div>"
      ],
      "text/plain": [
       "    IMBD title ID               Original titlÊ Release year  \\\n",
       "96      tt0070735                    The Sting   1974-03-21   \n",
       "97      tt0082096                     Das Boot   1982-03-18   \n",
       "98      tt0059578  Per qualche dollaro in piÃ¹   1965-12-20   \n",
       "99      tt1832382      Jodaeiye Nader az Simin   2011-10-21   \n",
       "100     tt0045152          Singin' in the Rain   1953-02-05   \n",
       "\n",
       "                         Genrë¨ Duration       Country Content Rating  \\\n",
       "96         Comedy, Crime, Drama      129           USA             PG   \n",
       "97   Adventure, Drama, Thriller      149  West Germany              R   \n",
       "98                      Western      132         Italy            NaN   \n",
       "99                        Drama      123          Iran          PG-13   \n",
       "100    Comedy, Musical, Romance      103           USA            NaN   \n",
       "\n",
       "              Director  Unnamed: 8       Income   Votes  Score  \n",
       "96     George Roy Hill         NaN  $ 156000000  236.285   7.5  \n",
       "97   Wolfgang Petersen         NaN   $ 11487676  226.427   7.5  \n",
       "98        Sergio Leone         NaN   $ 15000000  226.039   7.4  \n",
       "99      Asghar Farhadi         NaN   $ 22926076  214.165   7.4  \n",
       "100      Stanley Donen         NaN    $ 1864182  213.152   7.4  "
      ]
     },
     "execution_count": 5,
     "metadata": {},
     "output_type": "execute_result"
    }
   ],
   "source": [
    "df.tail()"
   ]
  },
  {
   "cell_type": "code",
   "execution_count": 6,
   "metadata": {},
   "outputs": [
    {
     "data": {
      "text/plain": [
       "(101, 12)"
      ]
     },
     "execution_count": 6,
     "metadata": {},
     "output_type": "execute_result"
    }
   ],
   "source": [
    "df.shape"
   ]
  },
  {
   "cell_type": "code",
   "execution_count": 7,
   "metadata": {},
   "outputs": [
    {
     "name": "stdout",
     "output_type": "stream",
     "text": [
      "<class 'pandas.core.frame.DataFrame'>\n",
      "RangeIndex: 101 entries, 0 to 100\n",
      "Data columns (total 12 columns):\n",
      " #   Column          Non-Null Count  Dtype  \n",
      "---  ------          --------------  -----  \n",
      " 0   IMBD title ID   100 non-null    object \n",
      " 1   Original titlÊ  100 non-null    object \n",
      " 2   Release year    100 non-null    object \n",
      " 3   Genrë¨          100 non-null    object \n",
      " 4   Duration        99 non-null     object \n",
      " 5   Country         100 non-null    object \n",
      " 6   Content Rating  77 non-null     object \n",
      " 7   Director        100 non-null    object \n",
      " 8   Unnamed: 8      0 non-null      float64\n",
      " 9   Income          100 non-null    object \n",
      " 10   Votes          100 non-null    object \n",
      " 11  Score           100 non-null    object \n",
      "dtypes: float64(1), object(11)\n",
      "memory usage: 9.6+ KB\n"
     ]
    }
   ],
   "source": [
    "df.info()"
   ]
  },
  {
   "cell_type": "code",
   "execution_count": 8,
   "metadata": {},
   "outputs": [],
   "source": [
    "df.drop(['Unnamed: 8'], axis=1, inplace=True)"
   ]
  },
  {
   "cell_type": "code",
   "execution_count": 9,
   "metadata": {},
   "outputs": [],
   "source": [
    "# rename and convert all column names to lowercase, remove trailing spaces and replace spaces with undescore\n",
    "\n",
    "df.rename(columns= lambda x: x.strip().lower().replace(\" \", \"_\"), inplace=True)\n",
    "df.rename(columns = {'genrë¨': 'genre'}, inplace= True)\n",
    "df.rename(columns = {'original_titlê': 'original_title'}, inplace= True)"
   ]
  },
  {
   "cell_type": "code",
   "execution_count": 10,
   "metadata": {},
   "outputs": [
    {
     "name": "stdout",
     "output_type": "stream",
     "text": [
      "<class 'pandas.core.frame.DataFrame'>\n",
      "RangeIndex: 101 entries, 0 to 100\n",
      "Data columns (total 11 columns):\n",
      " #   Column          Non-Null Count  Dtype \n",
      "---  ------          --------------  ----- \n",
      " 0   imbd_title_id   100 non-null    object\n",
      " 1   original_title  100 non-null    object\n",
      " 2   release_year    100 non-null    object\n",
      " 3   genre           100 non-null    object\n",
      " 4   duration        99 non-null     object\n",
      " 5   country         100 non-null    object\n",
      " 6   content_rating  77 non-null     object\n",
      " 7   director        100 non-null    object\n",
      " 8   income          100 non-null    object\n",
      " 9   votes           100 non-null    object\n",
      " 10  score           100 non-null    object\n",
      "dtypes: object(11)\n",
      "memory usage: 8.8+ KB\n"
     ]
    }
   ],
   "source": [
    "df.info()"
   ]
  },
  {
   "cell_type": "code",
   "execution_count": 11,
   "metadata": {},
   "outputs": [
    {
     "data": {
      "text/plain": [
       "USA             62\n",
       "UK              12\n",
       "Italy            4\n",
       "Japan            4\n",
       "France           3\n",
       "South Korea      2\n",
       "Germany          2\n",
       "New Zesland      1\n",
       "New Zealand      1\n",
       "New Zeland       1\n",
       "US.              1\n",
       "Brazil           1\n",
       "US               1\n",
       "Italy1           1\n",
       "India            1\n",
       "Denmark          1\n",
       "West Germany     1\n",
       "Iran             1\n",
       "Name: country, dtype: int64"
      ]
     },
     "execution_count": 11,
     "metadata": {},
     "output_type": "execute_result"
    }
   ],
   "source": [
    "df['country'].value_counts()"
   ]
  },
  {
   "cell_type": "code",
   "execution_count": 12,
   "metadata": {},
   "outputs": [
    {
     "data": {
      "text/plain": [
       "USA            64\n",
       "UK             12\n",
       "Italy           5\n",
       "Japan           4\n",
       "New Zealand     3\n",
       "France          3\n",
       "Germany         3\n",
       "South Korea     2\n",
       "Brazil          1\n",
       "India           1\n",
       "Denmark         1\n",
       "Iran            1\n",
       "Name: country, dtype: int64"
      ]
     },
     "execution_count": 12,
     "metadata": {},
     "output_type": "execute_result"
    }
   ],
   "source": [
    "df['country'].replace(['New Zesland', 'New Zeland', 'Italy1', 'US.', 'US', 'West Germany'], ['New Zealand', 'New Zealand', \n",
    "                                                                       'Italy', 'USA', 'USA', 'Germany'], inplace= True)\n",
    "df['country'].value_counts()"
   ]
  },
  {
   "cell_type": "code",
   "execution_count": 13,
   "metadata": {},
   "outputs": [
    {
     "data": {
      "text/plain": [
       "8.6       11\n",
       "8.2        8\n",
       "8.3        8\n",
       "8.1        7\n",
       "8.4        7\n",
       "8.5        6\n",
       "7.5        6\n",
       "7.8        6\n",
       "8.0        6\n",
       "7.9        5\n",
       "7.6        4\n",
       "7.7        4\n",
       "7.4        3\n",
       "8.8        3\n",
       "8.7        2\n",
       "8.9        2\n",
       "9.2        1\n",
       "8,6        1\n",
       "8,7e-0     1\n",
       "8.7.       1\n",
       "++8.7      1\n",
       "8:8        1\n",
       "8..8       1\n",
       "08.9       1\n",
       "8,9f       1\n",
       "9,.0       1\n",
       "9.         1\n",
       "9.3        1\n",
       "Name: score, dtype: int64"
      ]
     },
     "execution_count": 13,
     "metadata": {},
     "output_type": "execute_result"
    }
   ],
   "source": [
    "df['score'].value_counts()"
   ]
  },
  {
   "cell_type": "code",
   "execution_count": 14,
   "metadata": {},
   "outputs": [],
   "source": [
    "df.replace(['8,6', '8,7e-0', '8.7.', '++8.7', '8:8', '8..8','08.9', '8,9f', '9,.0', '9.', '9.3'], \n",
    "           ['8.6', '8.7', '8.7', '8.7', '8.8', '8.8', '8.9', '8.9', '9.0', '9.0', '9.3'], inplace= True)"
   ]
  },
  {
   "cell_type": "code",
   "execution_count": 15,
   "metadata": {},
   "outputs": [
    {
     "data": {
      "text/plain": [
       "8.6    12\n",
       "8.3     8\n",
       "8.2     8\n",
       "8.4     7\n",
       "8.1     7\n",
       "7.5     6\n",
       "8.5     6\n",
       "8.0     6\n",
       "7.8     6\n",
       "8.8     5\n",
       "8.7     5\n",
       "7.9     5\n",
       "7.7     4\n",
       "8.9     4\n",
       "7.6     4\n",
       "7.4     3\n",
       "9.0     2\n",
       "9.2     1\n",
       "9.3     1\n",
       "Name: score, dtype: int64"
      ]
     },
     "execution_count": 15,
     "metadata": {},
     "output_type": "execute_result"
    }
   ],
   "source": [
    "df['score'].value_counts()"
   ]
  },
  {
   "cell_type": "code",
   "execution_count": 16,
   "metadata": {},
   "outputs": [
    {
     "data": {
      "text/html": [
       "<div>\n",
       "<style scoped>\n",
       "    .dataframe tbody tr th:only-of-type {\n",
       "        vertical-align: middle;\n",
       "    }\n",
       "\n",
       "    .dataframe tbody tr th {\n",
       "        vertical-align: top;\n",
       "    }\n",
       "\n",
       "    .dataframe thead th {\n",
       "        text-align: right;\n",
       "    }\n",
       "</style>\n",
       "<table border=\"1\" class=\"dataframe\">\n",
       "  <thead>\n",
       "    <tr style=\"text-align: right;\">\n",
       "      <th></th>\n",
       "      <th>imbd_title_id</th>\n",
       "      <th>original_title</th>\n",
       "      <th>release_year</th>\n",
       "      <th>genre</th>\n",
       "      <th>duration</th>\n",
       "      <th>country</th>\n",
       "      <th>content_rating</th>\n",
       "      <th>director</th>\n",
       "      <th>income</th>\n",
       "      <th>votes</th>\n",
       "      <th>score</th>\n",
       "    </tr>\n",
       "  </thead>\n",
       "  <tbody>\n",
       "  </tbody>\n",
       "</table>\n",
       "</div>"
      ],
      "text/plain": [
       "Empty DataFrame\n",
       "Columns: [imbd_title_id, original_title, release_year, genre, duration, country, content_rating, director, income, votes, score]\n",
       "Index: []"
      ]
     },
     "execution_count": 16,
     "metadata": {},
     "output_type": "execute_result"
    }
   ],
   "source": [
    "df.query('score == \"nan\"')"
   ]
  },
  {
   "cell_type": "code",
   "execution_count": 17,
   "metadata": {},
   "outputs": [],
   "source": [
    "# drop the row with \"nan\" score value from the dataset\n",
    "\n",
    "df.drop(df.query('score == \"nan\"').index, inplace= True)"
   ]
  },
  {
   "cell_type": "code",
   "execution_count": 18,
   "metadata": {},
   "outputs": [],
   "source": [
    "df['score'].value_counts()\n",
    "\n",
    "# convert the datatype of score column from string to float\n",
    "df['score'] = df['score'].astype('float')"
   ]
  },
  {
   "cell_type": "code",
   "execution_count": 19,
   "metadata": {},
   "outputs": [
    {
     "data": {
      "text/plain": [
       "2.278.845    1\n",
       "349.642      1\n",
       "928.036      1\n",
       "941.683      1\n",
       "1.049.009    1\n",
       "            ..\n",
       "1.308.193    1\n",
       "307.958      1\n",
       "388.310      1\n",
       "470.931      1\n",
       "213.152      1\n",
       "Name: votes, Length: 100, dtype: int64"
      ]
     },
     "execution_count": 19,
     "metadata": {},
     "output_type": "execute_result"
    }
   ],
   "source": [
    "df['votes'].value_counts()"
   ]
  },
  {
   "cell_type": "code",
   "execution_count": 20,
   "metadata": {},
   "outputs": [
    {
     "name": "stdout",
     "output_type": "stream",
     "text": [
      "   imbd_title_id original_title release_year genre duration country  \\\n",
      "13           NaN            NaN          NaN   NaN      NaN     NaN   \n",
      "\n",
      "   content_rating director income votes  score  \n",
      "13            NaN      NaN    NaN   NaN    NaN  \n"
     ]
    }
   ],
   "source": [
    "print(df[df['imbd_title_id'].isnull()])"
   ]
  },
  {
   "cell_type": "code",
   "execution_count": 21,
   "metadata": {},
   "outputs": [],
   "source": [
    "df = df.dropna()"
   ]
  },
  {
   "cell_type": "code",
   "execution_count": 22,
   "metadata": {},
   "outputs": [
    {
     "name": "stderr",
     "output_type": "stream",
     "text": [
      "c:\\Users\\ASUS\\anaconda3\\envs\\my_env\\lib\\site-packages\\ipykernel_launcher.py:3: FutureWarning: The default value of regex will change from True to False in a future version. In addition, single character regular expressions will *not* be treated as literal strings when regex=True.\n",
      "  This is separate from the ipykernel package so we can avoid doing imports until\n"
     ]
    }
   ],
   "source": [
    "# replace dots with commas in the votes column and convert votes column to an integer datatype\n",
    "\n",
    "df['votes'] = df['votes'].str.replace('.', '').astype(int)"
   ]
  },
  {
   "cell_type": "code",
   "execution_count": 23,
   "metadata": {},
   "outputs": [
    {
     "data": {
      "text/plain": [
       "2278845    1\n",
       "591251     1\n",
       "1049009    1\n",
       "1229958    1\n",
       "302317     1\n",
       "          ..\n",
       "626693     1\n",
       "685856     1\n",
       "1112336    1\n",
       "1203825    1\n",
       "214165     1\n",
       "Name: votes, Length: 76, dtype: int64"
      ]
     },
     "execution_count": 23,
     "metadata": {},
     "output_type": "execute_result"
    }
   ],
   "source": [
    "# confirm that dots have been replaced with commas in the votes column values\n",
    "\n",
    "df['votes'].value_counts()"
   ]
  },
  {
   "cell_type": "code",
   "execution_count": 24,
   "metadata": {},
   "outputs": [
    {
     "data": {
      "text/plain": [
       "dtype('int32')"
      ]
     },
     "execution_count": 24,
     "metadata": {},
     "output_type": "execute_result"
    }
   ],
   "source": [
    "# confirm datatype is successfully changed\n",
    "\n",
    "df['votes'].dtype"
   ]
  },
  {
   "cell_type": "code",
   "execution_count": 25,
   "metadata": {},
   "outputs": [
    {
     "data": {
      "text/html": [
       "<div>\n",
       "<style scoped>\n",
       "    .dataframe tbody tr th:only-of-type {\n",
       "        vertical-align: middle;\n",
       "    }\n",
       "\n",
       "    .dataframe tbody tr th {\n",
       "        vertical-align: top;\n",
       "    }\n",
       "\n",
       "    .dataframe thead th {\n",
       "        text-align: right;\n",
       "    }\n",
       "</style>\n",
       "<table border=\"1\" class=\"dataframe\">\n",
       "  <thead>\n",
       "    <tr style=\"text-align: right;\">\n",
       "      <th></th>\n",
       "      <th>imbd_title_id</th>\n",
       "      <th>original_title</th>\n",
       "      <th>release_year</th>\n",
       "      <th>genre</th>\n",
       "      <th>duration</th>\n",
       "      <th>country</th>\n",
       "      <th>content_rating</th>\n",
       "      <th>director</th>\n",
       "      <th>income</th>\n",
       "      <th>votes</th>\n",
       "      <th>score</th>\n",
       "    </tr>\n",
       "  </thead>\n",
       "  <tbody>\n",
       "    <tr>\n",
       "      <th>4</th>\n",
       "      <td>tt0110912</td>\n",
       "      <td>Pulp Fiction</td>\n",
       "      <td>1994-10-28</td>\n",
       "      <td>Crime, Drama</td>\n",
       "      <td></td>\n",
       "      <td>USA</td>\n",
       "      <td>R</td>\n",
       "      <td>Quentin Tarantino</td>\n",
       "      <td>$ 222831817</td>\n",
       "      <td>1780147</td>\n",
       "      <td>8.9</td>\n",
       "    </tr>\n",
       "  </tbody>\n",
       "</table>\n",
       "</div>"
      ],
      "text/plain": [
       "  imbd_title_id original_title release_year         genre duration country  \\\n",
       "4     tt0110912   Pulp Fiction   1994-10-28  Crime, Drama              USA   \n",
       "\n",
       "  content_rating           director       income    votes  score  \n",
       "4              R  Quentin Tarantino  $ 222831817  1780147    8.9  "
      ]
     },
     "execution_count": 25,
     "metadata": {},
     "output_type": "execute_result"
    }
   ],
   "source": [
    "# check row in duration column with blank value \n",
    "df[df['duration'] == \" \"]"
   ]
  },
  {
   "cell_type": "code",
   "execution_count": 26,
   "metadata": {},
   "outputs": [
    {
     "data": {
      "text/html": [
       "<div>\n",
       "<style scoped>\n",
       "    .dataframe tbody tr th:only-of-type {\n",
       "        vertical-align: middle;\n",
       "    }\n",
       "\n",
       "    .dataframe tbody tr th {\n",
       "        vertical-align: top;\n",
       "    }\n",
       "\n",
       "    .dataframe thead th {\n",
       "        text-align: right;\n",
       "    }\n",
       "</style>\n",
       "<table border=\"1\" class=\"dataframe\">\n",
       "  <thead>\n",
       "    <tr style=\"text-align: right;\">\n",
       "      <th></th>\n",
       "      <th>imbd_title_id</th>\n",
       "      <th>original_title</th>\n",
       "      <th>release_year</th>\n",
       "      <th>genre</th>\n",
       "      <th>duration</th>\n",
       "      <th>country</th>\n",
       "      <th>content_rating</th>\n",
       "      <th>director</th>\n",
       "      <th>income</th>\n",
       "      <th>votes</th>\n",
       "      <th>score</th>\n",
       "    </tr>\n",
       "  </thead>\n",
       "  <tbody>\n",
       "  </tbody>\n",
       "</table>\n",
       "</div>"
      ],
      "text/plain": [
       "Empty DataFrame\n",
       "Columns: [imbd_title_id, original_title, release_year, genre, duration, country, content_rating, director, income, votes, score]\n",
       "Index: []"
      ]
     },
     "execution_count": 26,
     "metadata": {},
     "output_type": "execute_result"
    }
   ],
   "source": [
    "# replace the blank value with original duration\n",
    "\n",
    "df['duration'] = df['duration'].replace([' '], 154)\n",
    "\n",
    "# confirm the duration has been replaced successfully\n",
    "df[df['duration'] == \" \"]"
   ]
  },
  {
   "cell_type": "code",
   "execution_count": 27,
   "metadata": {},
   "outputs": [
    {
     "data": {
      "text/html": [
       "<div>\n",
       "<style scoped>\n",
       "    .dataframe tbody tr th:only-of-type {\n",
       "        vertical-align: middle;\n",
       "    }\n",
       "\n",
       "    .dataframe tbody tr th {\n",
       "        vertical-align: top;\n",
       "    }\n",
       "\n",
       "    .dataframe thead th {\n",
       "        text-align: right;\n",
       "    }\n",
       "</style>\n",
       "<table border=\"1\" class=\"dataframe\">\n",
       "  <thead>\n",
       "    <tr style=\"text-align: right;\">\n",
       "      <th></th>\n",
       "      <th>imbd_title_id</th>\n",
       "      <th>original_title</th>\n",
       "      <th>release_year</th>\n",
       "      <th>genre</th>\n",
       "      <th>duration</th>\n",
       "      <th>country</th>\n",
       "      <th>content_rating</th>\n",
       "      <th>director</th>\n",
       "      <th>income</th>\n",
       "      <th>votes</th>\n",
       "      <th>score</th>\n",
       "    </tr>\n",
       "  </thead>\n",
       "  <tbody>\n",
       "  </tbody>\n",
       "</table>\n",
       "</div>"
      ],
      "text/plain": [
       "Empty DataFrame\n",
       "Columns: [imbd_title_id, original_title, release_year, genre, duration, country, content_rating, director, income, votes, score]\n",
       "Index: []"
      ]
     },
     "execution_count": 27,
     "metadata": {},
     "output_type": "execute_result"
    }
   ],
   "source": [
    "# replace the hyphen and Nan value with original duration\n",
    "\n",
    "df.query('duration == \"-\"')\n",
    "df['duration'] = df['duration'].replace({'-': 133, 'Nan': 195, ' ': 154, 'Inf': 139,\n",
    "                                         '178c': 178, 'Not Applicable': 124})\n",
    "\n",
    "# confirm the duration has been replaced successfully\n",
    "df[df['duration'] == \"-\"]"
   ]
  },
  {
   "cell_type": "code",
   "execution_count": 28,
   "metadata": {},
   "outputs": [
    {
     "name": "stdout",
     "output_type": "stream",
     "text": [
      "True\n",
      "True\n",
      "True\n"
     ]
    }
   ],
   "source": [
    "# check if the values have been replaced successfully\n",
    "\n",
    "print(df.query('duration == \"Not Applicable\"').empty)\n",
    "print(df.query('duration == \"Nan\"').empty)\n",
    "print(df.query('duration == \"Inf\"').empty)"
   ]
  },
  {
   "cell_type": "code",
   "execution_count": 29,
   "metadata": {},
   "outputs": [],
   "source": [
    "# convert the duration column datatype from string to integer\n",
    "\n",
    "df['duration'] = df['duration'].astype(int)"
   ]
  },
  {
   "cell_type": "code",
   "execution_count": 30,
   "metadata": {},
   "outputs": [
    {
     "data": {
      "text/plain": [
       "R            44\n",
       "PG-13        12\n",
       "PG           11\n",
       "G             6\n",
       "Not Rated     1\n",
       "Approved      1\n",
       "Unrated       1\n",
       "Name: content_rating, dtype: int64"
      ]
     },
     "execution_count": 30,
     "metadata": {},
     "output_type": "execute_result"
    }
   ],
   "source": [
    "df['content_rating'].value_counts()"
   ]
  },
  {
   "cell_type": "code",
   "execution_count": 31,
   "metadata": {},
   "outputs": [
    {
     "data": {
      "text/plain": [
       "$ 28815245     1\n",
       "$ 91968688     1\n",
       "$ 356296601    1\n",
       "$ 321455689    1\n",
       "$ 5472914      1\n",
       "              ..\n",
       "$ 355467056    1\n",
       "$ 30680793     1\n",
       "$ 286801374    1\n",
       "$ 482349603    1\n",
       "$ 22926076     1\n",
       "Name: income, Length: 76, dtype: int64"
      ]
     },
     "execution_count": 31,
     "metadata": {},
     "output_type": "execute_result"
    }
   ],
   "source": [
    "df['income'].value_counts()"
   ]
  },
  {
   "cell_type": "code",
   "execution_count": 32,
   "metadata": {},
   "outputs": [],
   "source": [
    "#df['income'] = df['income'].astype(str)\n",
    "#df['income'] = df['income'].str.replace('$', '').str.replace('o', '0').str.replace(',', '')"
   ]
  },
  {
   "cell_type": "code",
   "execution_count": 33,
   "metadata": {},
   "outputs": [],
   "source": [
    "df['income'] = df['income'].replace({'\\$': '', 'o': '0', ',': ''}, regex= True).str.strip()"
   ]
  },
  {
   "cell_type": "code",
   "execution_count": 34,
   "metadata": {},
   "outputs": [
    {
     "data": {
      "text/plain": [
       "dtype('int32')"
      ]
     },
     "execution_count": 34,
     "metadata": {},
     "output_type": "execute_result"
    }
   ],
   "source": [
    "# convert income column from string to integer data type\n",
    "\n",
    "df['income'] = df['income'].astype(int)\n",
    "\n",
    "# confirm income column datatype has been successfully changed\n",
    "df['income'].dtype"
   ]
  },
  {
   "cell_type": "code",
   "execution_count": 35,
   "metadata": {},
   "outputs": [
    {
     "data": {
      "text/html": [
       "<div>\n",
       "<style scoped>\n",
       "    .dataframe tbody tr th:only-of-type {\n",
       "        vertical-align: middle;\n",
       "    }\n",
       "\n",
       "    .dataframe tbody tr th {\n",
       "        vertical-align: top;\n",
       "    }\n",
       "\n",
       "    .dataframe thead th {\n",
       "        text-align: right;\n",
       "    }\n",
       "</style>\n",
       "<table border=\"1\" class=\"dataframe\">\n",
       "  <thead>\n",
       "    <tr style=\"text-align: right;\">\n",
       "      <th></th>\n",
       "      <th>duration</th>\n",
       "      <th>income</th>\n",
       "      <th>votes</th>\n",
       "      <th>score</th>\n",
       "    </tr>\n",
       "  </thead>\n",
       "  <tbody>\n",
       "    <tr>\n",
       "      <th>count</th>\n",
       "      <td>76.000000</td>\n",
       "      <td>7.600000e+01</td>\n",
       "      <td>7.600000e+01</td>\n",
       "      <td>76.000000</td>\n",
       "    </tr>\n",
       "    <tr>\n",
       "      <th>mean</th>\n",
       "      <td>139.131579</td>\n",
       "      <td>2.738499e+08</td>\n",
       "      <td>9.287982e+05</td>\n",
       "      <td>8.301316</td>\n",
       "    </tr>\n",
       "    <tr>\n",
       "      <th>std</th>\n",
       "      <td>33.051613</td>\n",
       "      <td>3.146542e+08</td>\n",
       "      <td>4.809663e+05</td>\n",
       "      <td>0.451514</td>\n",
       "    </tr>\n",
       "    <tr>\n",
       "      <th>min</th>\n",
       "      <td>81.000000</td>\n",
       "      <td>5.760000e+02</td>\n",
       "      <td>2.112500e+05</td>\n",
       "      <td>7.400000</td>\n",
       "    </tr>\n",
       "    <tr>\n",
       "      <th>50%</th>\n",
       "      <td>133.500000</td>\n",
       "      <td>1.257286e+08</td>\n",
       "      <td>8.904730e+05</td>\n",
       "      <td>8.300000</td>\n",
       "    </tr>\n",
       "    <tr>\n",
       "      <th>90%</th>\n",
       "      <td>178.500000</td>\n",
       "      <td>8.227770e+08</td>\n",
       "      <td>1.588477e+06</td>\n",
       "      <td>8.850000</td>\n",
       "    </tr>\n",
       "    <tr>\n",
       "      <th>95%</th>\n",
       "      <td>202.500000</td>\n",
       "      <td>9.777477e+08</td>\n",
       "      <td>1.786970e+06</td>\n",
       "      <td>8.925000</td>\n",
       "    </tr>\n",
       "    <tr>\n",
       "      <th>99%</th>\n",
       "      <td>228.250000</td>\n",
       "      <td>1.096418e+09</td>\n",
       "      <td>2.250922e+06</td>\n",
       "      <td>9.225000</td>\n",
       "    </tr>\n",
       "    <tr>\n",
       "      <th>max</th>\n",
       "      <td>229.000000</td>\n",
       "      <td>1.142271e+09</td>\n",
       "      <td>2.278845e+06</td>\n",
       "      <td>9.300000</td>\n",
       "    </tr>\n",
       "  </tbody>\n",
       "</table>\n",
       "</div>"
      ],
      "text/plain": [
       "         duration        income         votes      score\n",
       "count   76.000000  7.600000e+01  7.600000e+01  76.000000\n",
       "mean   139.131579  2.738499e+08  9.287982e+05   8.301316\n",
       "std     33.051613  3.146542e+08  4.809663e+05   0.451514\n",
       "min     81.000000  5.760000e+02  2.112500e+05   7.400000\n",
       "50%    133.500000  1.257286e+08  8.904730e+05   8.300000\n",
       "90%    178.500000  8.227770e+08  1.588477e+06   8.850000\n",
       "95%    202.500000  9.777477e+08  1.786970e+06   8.925000\n",
       "99%    228.250000  1.096418e+09  2.250922e+06   9.225000\n",
       "max    229.000000  1.142271e+09  2.278845e+06   9.300000"
      ]
     },
     "execution_count": 35,
     "metadata": {},
     "output_type": "execute_result"
    }
   ],
   "source": [
    "df.describe(percentiles=[0.9, .95, .99])"
   ]
  },
  {
   "cell_type": "code",
   "execution_count": 36,
   "metadata": {},
   "outputs": [],
   "source": [
    "# remove trailing spaces from values in original_title and director columns\n",
    "df['original_title'] = df['original_title'].str.strip()\n",
    "\n",
    "df['director'] = df['director'].str.strip()"
   ]
  },
  {
   "attachments": {},
   "cell_type": "markdown",
   "metadata": {},
   "source": [
    "Removing release dates that are out of range and replacing wrong date formats"
   ]
  },
  {
   "cell_type": "code",
   "execution_count": 37,
   "metadata": {},
   "outputs": [
    {
     "data": {
      "text/plain": [
       "2000-05-19    2\n",
       "1995-02-10    1\n",
       "1979-12-18    1\n",
       "2000-01-21    1\n",
       "2009-10-02    1\n",
       "             ..\n",
       "2003-04-18    1\n",
       "2003-05-09    1\n",
       "2000-10-03    1\n",
       "1998-10-30    1\n",
       "2011-10-21    1\n",
       "Name: release_year, Length: 75, dtype: int64"
      ]
     },
     "execution_count": 37,
     "metadata": {},
     "output_type": "execute_result"
    }
   ],
   "source": [
    "df['release_year'].value_counts()"
   ]
  },
  {
   "cell_type": "code",
   "execution_count": 38,
   "metadata": {},
   "outputs": [],
   "source": [
    "# remove trailing spaces from the release_year column\n",
    "\n",
    "df['release_year'] = df['release_year'].str.strip()"
   ]
  },
  {
   "cell_type": "code",
   "execution_count": 39,
   "metadata": {},
   "outputs": [],
   "source": [
    "# check for rows with release_year values that do not match the patter 'YYYY-MM-DD\n",
    "\n",
    "#date_pattern = r'^((?!(\\d{4}-\\d{2}-\\d{2})).)*$'\n",
    "\n",
    "date_pattern = r'^((?!(\\d{4}-\\d{2}-\\d{2})))'\n",
    "#df['new'] = df.release_year.str.findall(date_pattern)\n",
    "#df.filter(regex= date_pattern)\n",
    "wrong_dates = df[df.release_year.str.match(date_pattern)]"
   ]
  },
  {
   "cell_type": "code",
   "execution_count": 40,
   "metadata": {},
   "outputs": [
    {
     "data": {
      "text/html": [
       "<div>\n",
       "<style scoped>\n",
       "    .dataframe tbody tr th:only-of-type {\n",
       "        vertical-align: middle;\n",
       "    }\n",
       "\n",
       "    .dataframe tbody tr th {\n",
       "        vertical-align: top;\n",
       "    }\n",
       "\n",
       "    .dataframe thead th {\n",
       "        text-align: right;\n",
       "    }\n",
       "</style>\n",
       "<table border=\"1\" class=\"dataframe\">\n",
       "  <thead>\n",
       "    <tr style=\"text-align: right;\">\n",
       "      <th></th>\n",
       "      <th>imbd_title_id</th>\n",
       "      <th>original_title</th>\n",
       "      <th>release_year</th>\n",
       "      <th>genre</th>\n",
       "      <th>duration</th>\n",
       "      <th>country</th>\n",
       "      <th>content_rating</th>\n",
       "      <th>director</th>\n",
       "      <th>income</th>\n",
       "      <th>votes</th>\n",
       "      <th>score</th>\n",
       "    </tr>\n",
       "  </thead>\n",
       "  <tbody>\n",
       "    <tr>\n",
       "      <th>1</th>\n",
       "      <td>tt0068646</td>\n",
       "      <td>The Godfather</td>\n",
       "      <td>09 21 1972</td>\n",
       "      <td>Crime, Drama</td>\n",
       "      <td>175</td>\n",
       "      <td>USA</td>\n",
       "      <td>R</td>\n",
       "      <td>Francis Ford Coppola</td>\n",
       "      <td>246120974</td>\n",
       "      <td>1572674</td>\n",
       "      <td>9.2</td>\n",
       "    </tr>\n",
       "    <tr>\n",
       "      <th>2</th>\n",
       "      <td>tt0468569</td>\n",
       "      <td>The Dark Knight</td>\n",
       "      <td>23 -07-2008</td>\n",
       "      <td>Action, Crime, Drama</td>\n",
       "      <td>152</td>\n",
       "      <td>USA</td>\n",
       "      <td>PG-13</td>\n",
       "      <td>Christopher Nolan</td>\n",
       "      <td>1005455211</td>\n",
       "      <td>2241615</td>\n",
       "      <td>9.0</td>\n",
       "    </tr>\n",
       "    <tr>\n",
       "      <th>5</th>\n",
       "      <td>tt0167260</td>\n",
       "      <td>The Lord of the Rings: The Return of the King</td>\n",
       "      <td>22 Feb 04</td>\n",
       "      <td>Action, Adventure, Drama</td>\n",
       "      <td>201</td>\n",
       "      <td>New Zealand</td>\n",
       "      <td>PG-13</td>\n",
       "      <td>Peter Jackson</td>\n",
       "      <td>1142271098</td>\n",
       "      <td>1604280</td>\n",
       "      <td>8.9</td>\n",
       "    </tr>\n",
       "    <tr>\n",
       "      <th>9</th>\n",
       "      <td>tt0137523</td>\n",
       "      <td>Fight Club</td>\n",
       "      <td>10-29-99</td>\n",
       "      <td>Drama</td>\n",
       "      <td>139</td>\n",
       "      <td>UK</td>\n",
       "      <td>R</td>\n",
       "      <td>David Fincher</td>\n",
       "      <td>101218804</td>\n",
       "      <td>1807440</td>\n",
       "      <td>8.8</td>\n",
       "    </tr>\n",
       "    <tr>\n",
       "      <th>12</th>\n",
       "      <td>tt0060196</td>\n",
       "      <td>Il buono, il brutto, il cattivo</td>\n",
       "      <td>23rd December of 1966</td>\n",
       "      <td>Western</td>\n",
       "      <td>161</td>\n",
       "      <td>Italy</td>\n",
       "      <td>Approved</td>\n",
       "      <td>Sergio Leone</td>\n",
       "      <td>25252481</td>\n",
       "      <td>672499</td>\n",
       "      <td>8.8</td>\n",
       "    </tr>\n",
       "    <tr>\n",
       "      <th>15</th>\n",
       "      <td>tt0167261</td>\n",
       "      <td>The Lord of the Rings: The Two Towers</td>\n",
       "      <td>01/16-03</td>\n",
       "      <td>Action, Adventure, Drama</td>\n",
       "      <td>179</td>\n",
       "      <td>New Zealand</td>\n",
       "      <td>PG-13</td>\n",
       "      <td>Peter Jackson</td>\n",
       "      <td>951227416</td>\n",
       "      <td>1449778</td>\n",
       "      <td>8.7</td>\n",
       "    </tr>\n",
       "    <tr>\n",
       "      <th>18</th>\n",
       "      <td>tt0073486</td>\n",
       "      <td>One Flew Over the Cuckoo's Nest</td>\n",
       "      <td>18/11/1976</td>\n",
       "      <td>Drama</td>\n",
       "      <td>133</td>\n",
       "      <td>USA</td>\n",
       "      <td>R</td>\n",
       "      <td>Milos Forman</td>\n",
       "      <td>108997629</td>\n",
       "      <td>891071</td>\n",
       "      <td>8.7</td>\n",
       "    </tr>\n",
       "    <tr>\n",
       "      <th>45</th>\n",
       "      <td>tt0034583</td>\n",
       "      <td>Casablanca</td>\n",
       "      <td>21-11-46</td>\n",
       "      <td>Drama, Romance, War</td>\n",
       "      <td>102</td>\n",
       "      <td>USA</td>\n",
       "      <td>PG</td>\n",
       "      <td>Michael Curtiz</td>\n",
       "      <td>4374761</td>\n",
       "      <td>509953</td>\n",
       "      <td>8.3</td>\n",
       "    </tr>\n",
       "  </tbody>\n",
       "</table>\n",
       "</div>"
      ],
      "text/plain": [
       "   imbd_title_id                                 original_title  \\\n",
       "1      tt0068646                                  The Godfather   \n",
       "2      tt0468569                                The Dark Knight   \n",
       "5      tt0167260  The Lord of the Rings: The Return of the King   \n",
       "9      tt0137523                                     Fight Club   \n",
       "12     tt0060196                Il buono, il brutto, il cattivo   \n",
       "15     tt0167261          The Lord of the Rings: The Two Towers   \n",
       "18     tt0073486                One Flew Over the Cuckoo's Nest   \n",
       "45     tt0034583                                     Casablanca   \n",
       "\n",
       "             release_year                     genre  duration      country  \\\n",
       "1              09 21 1972              Crime, Drama       175          USA   \n",
       "2             23 -07-2008      Action, Crime, Drama       152          USA   \n",
       "5               22 Feb 04  Action, Adventure, Drama       201  New Zealand   \n",
       "9                10-29-99                     Drama       139           UK   \n",
       "12  23rd December of 1966                   Western       161        Italy   \n",
       "15               01/16-03  Action, Adventure, Drama       179  New Zealand   \n",
       "18             18/11/1976                     Drama       133          USA   \n",
       "45               21-11-46       Drama, Romance, War       102          USA   \n",
       "\n",
       "   content_rating              director      income    votes  score  \n",
       "1               R  Francis Ford Coppola   246120974  1572674    9.2  \n",
       "2           PG-13     Christopher Nolan  1005455211  2241615    9.0  \n",
       "5           PG-13         Peter Jackson  1142271098  1604280    8.9  \n",
       "9               R         David Fincher   101218804  1807440    8.8  \n",
       "12       Approved          Sergio Leone    25252481   672499    8.8  \n",
       "15          PG-13         Peter Jackson   951227416  1449778    8.7  \n",
       "18              R          Milos Forman   108997629   891071    8.7  \n",
       "45             PG        Michael Curtiz     4374761   509953    8.3  "
      ]
     },
     "execution_count": 40,
     "metadata": {},
     "output_type": "execute_result"
    }
   ],
   "source": [
    "wrong_dates"
   ]
  },
  {
   "cell_type": "code",
   "execution_count": 41,
   "metadata": {},
   "outputs": [
    {
     "data": {
      "text/plain": [
       "[1, 2, 5, 9, 12, 15, 18, 45]"
      ]
     },
     "execution_count": 41,
     "metadata": {},
     "output_type": "execute_result"
    }
   ],
   "source": [
    "wrong_dates.index.to_list()"
   ]
  },
  {
   "cell_type": "code",
   "execution_count": 42,
   "metadata": {},
   "outputs": [
    {
     "data": {
      "text/plain": [
       "2000-05-19    2\n",
       "1995-02-10    1\n",
       "2000-01-21    1\n",
       "1984-09-28    1\n",
       "2007-04-06    1\n",
       "             ..\n",
       "2003-05-09    1\n",
       "2000-10-03    1\n",
       "1998-10-30    1\n",
       "1977-10-20    1\n",
       "2011-10-21    1\n",
       "Name: release_year, Length: 73, dtype: int64"
      ]
     },
     "execution_count": 42,
     "metadata": {},
     "output_type": "execute_result"
    }
   ],
   "source": [
    "# replace the dates with wrong formats\n",
    "\n",
    "df.loc[wrong_dates.index.to_list(), 'release_year'] = wrong_dates['release_year'].replace({'09 21 1972': '1972-09-21', '23 -07-2008': '2008-07-23',\n",
    "                                                 '22 Feb 04': '2004-02-22', '10-29-99': '1999-10-29', \n",
    "                                                 '23rd December of 1966': '1966-12-23', '01/16-03': '2003-01-16',\n",
    "                                                 '18/11/1976': '1976-11-18', '21-11-46': '1946-11-21'})\n",
    "\n",
    "# drop columns with dates that are out of range\n",
    "\n",
    "df.drop(df.query('release_year == \"1984-02-34\"').index, inplace= True)\n",
    "df.drop(df.query('release_year == \"1976-13-24\"').index, inplace= True)\n",
    "\n",
    "df['release_year'].value_counts()"
   ]
  },
  {
   "cell_type": "code",
   "execution_count": 43,
   "metadata": {},
   "outputs": [
    {
     "data": {
      "text/html": [
       "<div>\n",
       "<style scoped>\n",
       "    .dataframe tbody tr th:only-of-type {\n",
       "        vertical-align: middle;\n",
       "    }\n",
       "\n",
       "    .dataframe tbody tr th {\n",
       "        vertical-align: top;\n",
       "    }\n",
       "\n",
       "    .dataframe thead th {\n",
       "        text-align: right;\n",
       "    }\n",
       "</style>\n",
       "<table border=\"1\" class=\"dataframe\">\n",
       "  <thead>\n",
       "    <tr style=\"text-align: right;\">\n",
       "      <th></th>\n",
       "      <th>imbd_title_id</th>\n",
       "      <th>original_title</th>\n",
       "      <th>release_year</th>\n",
       "      <th>genre</th>\n",
       "      <th>duration</th>\n",
       "      <th>country</th>\n",
       "      <th>content_rating</th>\n",
       "      <th>director</th>\n",
       "      <th>income</th>\n",
       "      <th>votes</th>\n",
       "      <th>score</th>\n",
       "    </tr>\n",
       "  </thead>\n",
       "  <tbody>\n",
       "  </tbody>\n",
       "</table>\n",
       "</div>"
      ],
      "text/plain": [
       "Empty DataFrame\n",
       "Columns: [imbd_title_id, original_title, release_year, genre, duration, country, content_rating, director, income, votes, score]\n",
       "Index: []"
      ]
     },
     "execution_count": 43,
     "metadata": {},
     "output_type": "execute_result"
    }
   ],
   "source": [
    "df[df.release_year.str.match(date_pattern)]"
   ]
  },
  {
   "attachments": {},
   "cell_type": "markdown",
   "metadata": {},
   "source": [
    "Alternative way to Remove release_dates that are out of range and replacing wrong date formats"
   ]
  },
  {
   "cell_type": "code",
   "execution_count": 44,
   "metadata": {},
   "outputs": [],
   "source": [
    "# drop columns with dates that are out of range\n",
    "\n",
    "df.drop(df.query('release_year == \"1984-02-34\"').index, inplace= True)\n",
    "df.drop(df.query('release_year == \"1976-13-24\"').index, inplace= True)"
   ]
  },
  {
   "cell_type": "code",
   "execution_count": 45,
   "metadata": {},
   "outputs": [
    {
     "data": {
      "text/html": [
       "<div>\n",
       "<style scoped>\n",
       "    .dataframe tbody tr th:only-of-type {\n",
       "        vertical-align: middle;\n",
       "    }\n",
       "\n",
       "    .dataframe tbody tr th {\n",
       "        vertical-align: top;\n",
       "    }\n",
       "\n",
       "    .dataframe thead th {\n",
       "        text-align: right;\n",
       "    }\n",
       "</style>\n",
       "<table border=\"1\" class=\"dataframe\">\n",
       "  <thead>\n",
       "    <tr style=\"text-align: right;\">\n",
       "      <th></th>\n",
       "      <th>imbd_title_id</th>\n",
       "      <th>original_title</th>\n",
       "      <th>release_year</th>\n",
       "      <th>genre</th>\n",
       "      <th>duration</th>\n",
       "      <th>country</th>\n",
       "      <th>content_rating</th>\n",
       "      <th>director</th>\n",
       "      <th>income</th>\n",
       "      <th>votes</th>\n",
       "      <th>score</th>\n",
       "    </tr>\n",
       "  </thead>\n",
       "  <tbody>\n",
       "  </tbody>\n",
       "</table>\n",
       "</div>"
      ],
      "text/plain": [
       "Empty DataFrame\n",
       "Columns: [imbd_title_id, original_title, release_year, genre, duration, country, content_rating, director, income, votes, score]\n",
       "Index: []"
      ]
     },
     "execution_count": 45,
     "metadata": {},
     "output_type": "execute_result"
    }
   ],
   "source": [
    "df.query('release_year == \"1976-13-24\"')"
   ]
  },
  {
   "cell_type": "code",
   "execution_count": 46,
   "metadata": {},
   "outputs": [],
   "source": [
    "# An alternative but inefficient way to Remove release_dates that are out of range and replacing wrong date formats is to\n",
    "# convert the column to datetime datatype and correct date formats based on error raised and date formats rejected\n",
    "\n",
    "#df['release_year'] = df['release_year'].replace({'09 21 1972': '1972-09-21', '23 -07-2008': '2008-07-23',\n",
    "#                                                 '22 Feb 04': '2004-02-22', '10-29-99': '1999-10-29', \n",
    "#                                                 '23rd December of 1966': '1966-12-23', '01/16-03': '2003-01-16',\n",
    "#                                                 '18/11/1976': '1976-11-18', '21-11-46': '1946-11-21'})"
   ]
  },
  {
   "cell_type": "code",
   "execution_count": 47,
   "metadata": {},
   "outputs": [
    {
     "data": {
      "text/plain": [
       "dtype('<M8[ns]')"
      ]
     },
     "execution_count": 47,
     "metadata": {},
     "output_type": "execute_result"
    }
   ],
   "source": [
    "# convert release_year column from string to datetime datatype\n",
    "\n",
    "df['release_year'] = pd.to_datetime(df['release_year'], format='%Y-%m-%d')\n",
    "\n",
    "# create year column to hold only the year of release\n",
    "\n",
    "df['year'] = pd.DatetimeIndex(df['release_year']).year\n",
    "\n",
    "# convert year column to datetime\n",
    "df['year'] = pd.to_datetime(df['year'])\n",
    "\n",
    "# confirm datatype changed properly\n",
    "\n",
    "df['release_year'].dtype\n"
   ]
  },
  {
   "cell_type": "code",
   "execution_count": 48,
   "metadata": {},
   "outputs": [
    {
     "data": {
      "text/plain": [
       "0    1970-01-01 00:00:00.000001995\n",
       "1    1970-01-01 00:00:00.000001972\n",
       "2    1970-01-01 00:00:00.000002008\n",
       "3    1970-01-01 00:00:00.000001975\n",
       "4    1970-01-01 00:00:00.000001994\n",
       "                  ...             \n",
       "94   1970-01-01 00:00:00.000002012\n",
       "95   1970-01-01 00:00:00.000001963\n",
       "96   1970-01-01 00:00:00.000001974\n",
       "97   1970-01-01 00:00:00.000001982\n",
       "99   1970-01-01 00:00:00.000002011\n",
       "Name: year, Length: 74, dtype: datetime64[ns]"
      ]
     },
     "execution_count": 48,
     "metadata": {},
     "output_type": "execute_result"
    }
   ],
   "source": [
    "#confirm year column is correctly created\n",
    "df['year']"
   ]
  },
  {
   "cell_type": "code",
   "execution_count": 49,
   "metadata": {},
   "outputs": [
    {
     "data": {
      "text/plain": [
       "Drama                            8\n",
       "Crime, Drama                     6\n",
       "Action, Adventure, Drama         5\n",
       "Action, Adventure, Fantasy       3\n",
       "Biography, Drama, History        3\n",
       "Crime, Drama, Thriller           3\n",
       "Animation, Adventure, Family     2\n",
       "Animation, Adventure, Comedy     2\n",
       "Western                          2\n",
       "Drama, Romance                   2\n",
       "Action, Adventure, Sci-Fi        2\n",
       "Action, Adventure                2\n",
       "Comedy, Romance                  1\n",
       "Comedy, Crime                    1\n",
       "Drama, Western                   1\n",
       "Adventure, Sci-Fi                1\n",
       "Drama, Romance, Sci-Fi           1\n",
       "Adventure, Drama, War            1\n",
       "Adventure, Biography, Drama      1\n",
       "Drama, Mystery, Thriller         1\n",
       "Comedy                           1\n",
       "Action, Drama, Mystery           1\n",
       "Drama, Mystery, War              1\n",
       "Comedy, Crime, Drama             1\n",
       "Horror, Sci-Fi                   1\n",
       "Drama, Horror                    1\n",
       "Mystery, Thriller                1\n",
       "Animation, Adventure, Fantasy    1\n",
       "Drama, Music                     1\n",
       "Comedy, Drama, Family            1\n",
       "Drama, Family, Fantasy           1\n",
       "Action, Crime, Drama             1\n",
       "Biography, Crime, Drama          1\n",
       "Adventure, Drama, Sci-Fi         1\n",
       "Crime, Drama, Mystery            1\n",
       "Drama, War                       1\n",
       "Crime, Drama, Fantasy            1\n",
       "Drama, Mystery, Sci-Fi           1\n",
       "Drama, Romance, War              1\n",
       "Adventure, Comedy, Sci-Fi        1\n",
       "Action, Sci-Fi                   1\n",
       "Crime, Mystery, Thriller         1\n",
       "Animation, Adventure, Drama      1\n",
       "Biography, Drama, Music          1\n",
       "Horror, Mystery, Thriller        1\n",
       "Adventure, Drama, Thriller       1\n",
       "Name: genre, dtype: int64"
      ]
     },
     "execution_count": 49,
     "metadata": {},
     "output_type": "execute_result"
    }
   ],
   "source": [
    "# see the genres present in each row for each movie\n",
    "genres_list = df['genre'].str.split(pat=',').explode().str.strip()\n",
    "df['genre'].value_counts()"
   ]
  },
  {
   "cell_type": "code",
   "execution_count": 50,
   "metadata": {},
   "outputs": [
    {
     "data": {
      "text/plain": [
       "['Drama',\n",
       " 'Crime',\n",
       " 'Action',\n",
       " 'Adventure',\n",
       " 'Biography',\n",
       " 'History',\n",
       " 'Sci-Fi',\n",
       " 'Romance',\n",
       " 'Western',\n",
       " 'Fantasy',\n",
       " 'Mystery',\n",
       " 'Thriller',\n",
       " 'War',\n",
       " 'Animation',\n",
       " 'Family',\n",
       " 'Comedy',\n",
       " 'Music',\n",
       " 'Horror']"
      ]
     },
     "execution_count": 50,
     "metadata": {},
     "output_type": "execute_result"
    }
   ],
   "source": [
    "# see unique genres in the dataframe\n",
    "unique_genre_list = genres_list.unique().tolist()\n",
    "\n",
    "unique_genre_list"
   ]
  },
  {
   "cell_type": "code",
   "execution_count": 51,
   "metadata": {},
   "outputs": [
    {
     "name": "stderr",
     "output_type": "stream",
     "text": [
      "c:\\Users\\ASUS\\anaconda3\\envs\\my_env\\lib\\site-packages\\ipykernel_launcher.py:2: FutureWarning: Using the level keyword in DataFrame and Series aggregations is deprecated and will be removed in a future version. Use groupby instead. df.sum(level=1) should use df.groupby(level=1).sum().\n",
      "  \n"
     ]
    },
    {
     "data": {
      "text/html": [
       "<div>\n",
       "<style scoped>\n",
       "    .dataframe tbody tr th:only-of-type {\n",
       "        vertical-align: middle;\n",
       "    }\n",
       "\n",
       "    .dataframe tbody tr th {\n",
       "        vertical-align: top;\n",
       "    }\n",
       "\n",
       "    .dataframe thead th {\n",
       "        text-align: right;\n",
       "    }\n",
       "</style>\n",
       "<table border=\"1\" class=\"dataframe\">\n",
       "  <thead>\n",
       "    <tr style=\"text-align: right;\">\n",
       "      <th></th>\n",
       "      <th>index</th>\n",
       "      <th>imbd_title_id</th>\n",
       "      <th>original_title</th>\n",
       "      <th>release_year</th>\n",
       "      <th>duration</th>\n",
       "      <th>country</th>\n",
       "      <th>content_rating</th>\n",
       "      <th>director</th>\n",
       "      <th>income</th>\n",
       "      <th>votes</th>\n",
       "      <th>...</th>\n",
       "      <th>fantasy</th>\n",
       "      <th>history</th>\n",
       "      <th>horror</th>\n",
       "      <th>music</th>\n",
       "      <th>mystery</th>\n",
       "      <th>romance</th>\n",
       "      <th>sci_fi</th>\n",
       "      <th>thriller</th>\n",
       "      <th>war</th>\n",
       "      <th>western</th>\n",
       "    </tr>\n",
       "  </thead>\n",
       "  <tbody>\n",
       "    <tr>\n",
       "      <th>0</th>\n",
       "      <td>0</td>\n",
       "      <td>tt0111161</td>\n",
       "      <td>The Shawshank Redemption</td>\n",
       "      <td>1995-02-10</td>\n",
       "      <td>142</td>\n",
       "      <td>USA</td>\n",
       "      <td>R</td>\n",
       "      <td>Frank Darabont</td>\n",
       "      <td>28815245</td>\n",
       "      <td>2278845</td>\n",
       "      <td>...</td>\n",
       "      <td>0</td>\n",
       "      <td>0</td>\n",
       "      <td>0</td>\n",
       "      <td>0</td>\n",
       "      <td>0</td>\n",
       "      <td>0</td>\n",
       "      <td>0</td>\n",
       "      <td>0</td>\n",
       "      <td>0</td>\n",
       "      <td>0</td>\n",
       "    </tr>\n",
       "    <tr>\n",
       "      <th>1</th>\n",
       "      <td>1</td>\n",
       "      <td>tt0068646</td>\n",
       "      <td>The Godfather</td>\n",
       "      <td>1972-09-21</td>\n",
       "      <td>175</td>\n",
       "      <td>USA</td>\n",
       "      <td>R</td>\n",
       "      <td>Francis Ford Coppola</td>\n",
       "      <td>246120974</td>\n",
       "      <td>1572674</td>\n",
       "      <td>...</td>\n",
       "      <td>0</td>\n",
       "      <td>0</td>\n",
       "      <td>0</td>\n",
       "      <td>0</td>\n",
       "      <td>0</td>\n",
       "      <td>0</td>\n",
       "      <td>0</td>\n",
       "      <td>0</td>\n",
       "      <td>0</td>\n",
       "      <td>0</td>\n",
       "    </tr>\n",
       "    <tr>\n",
       "      <th>2</th>\n",
       "      <td>2</td>\n",
       "      <td>tt0468569</td>\n",
       "      <td>The Dark Knight</td>\n",
       "      <td>2008-07-23</td>\n",
       "      <td>152</td>\n",
       "      <td>USA</td>\n",
       "      <td>PG-13</td>\n",
       "      <td>Christopher Nolan</td>\n",
       "      <td>1005455211</td>\n",
       "      <td>2241615</td>\n",
       "      <td>...</td>\n",
       "      <td>0</td>\n",
       "      <td>0</td>\n",
       "      <td>0</td>\n",
       "      <td>0</td>\n",
       "      <td>0</td>\n",
       "      <td>0</td>\n",
       "      <td>0</td>\n",
       "      <td>0</td>\n",
       "      <td>0</td>\n",
       "      <td>0</td>\n",
       "    </tr>\n",
       "    <tr>\n",
       "      <th>3</th>\n",
       "      <td>3</td>\n",
       "      <td>tt0071562</td>\n",
       "      <td>The Godfather: Part II</td>\n",
       "      <td>1975-09-25</td>\n",
       "      <td>220</td>\n",
       "      <td>USA</td>\n",
       "      <td>R</td>\n",
       "      <td>Francis Ford Coppola</td>\n",
       "      <td>408035783</td>\n",
       "      <td>1098714</td>\n",
       "      <td>...</td>\n",
       "      <td>0</td>\n",
       "      <td>0</td>\n",
       "      <td>0</td>\n",
       "      <td>0</td>\n",
       "      <td>0</td>\n",
       "      <td>0</td>\n",
       "      <td>0</td>\n",
       "      <td>0</td>\n",
       "      <td>0</td>\n",
       "      <td>0</td>\n",
       "    </tr>\n",
       "    <tr>\n",
       "      <th>4</th>\n",
       "      <td>4</td>\n",
       "      <td>tt0110912</td>\n",
       "      <td>Pulp Fiction</td>\n",
       "      <td>1994-10-28</td>\n",
       "      <td>154</td>\n",
       "      <td>USA</td>\n",
       "      <td>R</td>\n",
       "      <td>Quentin Tarantino</td>\n",
       "      <td>222831817</td>\n",
       "      <td>1780147</td>\n",
       "      <td>...</td>\n",
       "      <td>0</td>\n",
       "      <td>0</td>\n",
       "      <td>0</td>\n",
       "      <td>0</td>\n",
       "      <td>0</td>\n",
       "      <td>0</td>\n",
       "      <td>0</td>\n",
       "      <td>0</td>\n",
       "      <td>0</td>\n",
       "      <td>0</td>\n",
       "    </tr>\n",
       "    <tr>\n",
       "      <th>...</th>\n",
       "      <td>...</td>\n",
       "      <td>...</td>\n",
       "      <td>...</td>\n",
       "      <td>...</td>\n",
       "      <td>...</td>\n",
       "      <td>...</td>\n",
       "      <td>...</td>\n",
       "      <td>...</td>\n",
       "      <td>...</td>\n",
       "      <td>...</td>\n",
       "      <td>...</td>\n",
       "      <td>...</td>\n",
       "      <td>...</td>\n",
       "      <td>...</td>\n",
       "      <td>...</td>\n",
       "      <td>...</td>\n",
       "      <td>...</td>\n",
       "      <td>...</td>\n",
       "      <td>...</td>\n",
       "      <td>...</td>\n",
       "      <td>...</td>\n",
       "    </tr>\n",
       "    <tr>\n",
       "      <th>69</th>\n",
       "      <td>94</td>\n",
       "      <td>tt2106476</td>\n",
       "      <td>Jagten</td>\n",
       "      <td>2012-11-22</td>\n",
       "      <td>115</td>\n",
       "      <td>Denmark</td>\n",
       "      <td>R</td>\n",
       "      <td>Thomas Vinterberg</td>\n",
       "      <td>15843274</td>\n",
       "      <td>269616</td>\n",
       "      <td>...</td>\n",
       "      <td>0</td>\n",
       "      <td>0</td>\n",
       "      <td>0</td>\n",
       "      <td>0</td>\n",
       "      <td>0</td>\n",
       "      <td>0</td>\n",
       "      <td>0</td>\n",
       "      <td>0</td>\n",
       "      <td>0</td>\n",
       "      <td>0</td>\n",
       "    </tr>\n",
       "    <tr>\n",
       "      <th>70</th>\n",
       "      <td>95</td>\n",
       "      <td>tt0056172</td>\n",
       "      <td>Lawrence of Arabia</td>\n",
       "      <td>1963-10-29</td>\n",
       "      <td>228</td>\n",
       "      <td>UK</td>\n",
       "      <td>PG</td>\n",
       "      <td>David Lean</td>\n",
       "      <td>45710874</td>\n",
       "      <td>261504</td>\n",
       "      <td>...</td>\n",
       "      <td>0</td>\n",
       "      <td>0</td>\n",
       "      <td>0</td>\n",
       "      <td>0</td>\n",
       "      <td>0</td>\n",
       "      <td>0</td>\n",
       "      <td>0</td>\n",
       "      <td>0</td>\n",
       "      <td>0</td>\n",
       "      <td>0</td>\n",
       "    </tr>\n",
       "    <tr>\n",
       "      <th>71</th>\n",
       "      <td>96</td>\n",
       "      <td>tt0070735</td>\n",
       "      <td>The Sting</td>\n",
       "      <td>1974-03-21</td>\n",
       "      <td>129</td>\n",
       "      <td>USA</td>\n",
       "      <td>PG</td>\n",
       "      <td>George Roy Hill</td>\n",
       "      <td>156000000</td>\n",
       "      <td>236285</td>\n",
       "      <td>...</td>\n",
       "      <td>0</td>\n",
       "      <td>0</td>\n",
       "      <td>0</td>\n",
       "      <td>0</td>\n",
       "      <td>0</td>\n",
       "      <td>0</td>\n",
       "      <td>0</td>\n",
       "      <td>0</td>\n",
       "      <td>0</td>\n",
       "      <td>0</td>\n",
       "    </tr>\n",
       "    <tr>\n",
       "      <th>72</th>\n",
       "      <td>97</td>\n",
       "      <td>tt0082096</td>\n",
       "      <td>Das Boot</td>\n",
       "      <td>1982-03-18</td>\n",
       "      <td>149</td>\n",
       "      <td>Germany</td>\n",
       "      <td>R</td>\n",
       "      <td>Wolfgang Petersen</td>\n",
       "      <td>11487676</td>\n",
       "      <td>226427</td>\n",
       "      <td>...</td>\n",
       "      <td>0</td>\n",
       "      <td>0</td>\n",
       "      <td>0</td>\n",
       "      <td>0</td>\n",
       "      <td>0</td>\n",
       "      <td>0</td>\n",
       "      <td>0</td>\n",
       "      <td>1</td>\n",
       "      <td>0</td>\n",
       "      <td>0</td>\n",
       "    </tr>\n",
       "    <tr>\n",
       "      <th>73</th>\n",
       "      <td>99</td>\n",
       "      <td>tt1832382</td>\n",
       "      <td>Jodaeiye Nader az Simin</td>\n",
       "      <td>2011-10-21</td>\n",
       "      <td>123</td>\n",
       "      <td>Iran</td>\n",
       "      <td>PG-13</td>\n",
       "      <td>Asghar Farhadi</td>\n",
       "      <td>22926076</td>\n",
       "      <td>214165</td>\n",
       "      <td>...</td>\n",
       "      <td>0</td>\n",
       "      <td>0</td>\n",
       "      <td>0</td>\n",
       "      <td>0</td>\n",
       "      <td>0</td>\n",
       "      <td>0</td>\n",
       "      <td>0</td>\n",
       "      <td>0</td>\n",
       "      <td>0</td>\n",
       "      <td>0</td>\n",
       "    </tr>\n",
       "  </tbody>\n",
       "</table>\n",
       "<p>74 rows × 30 columns</p>\n",
       "</div>"
      ],
      "text/plain": [
       "    index imbd_title_id            original_title release_year  duration  \\\n",
       "0       0     tt0111161  The Shawshank Redemption   1995-02-10       142   \n",
       "1       1     tt0068646             The Godfather   1972-09-21       175   \n",
       "2       2     tt0468569           The Dark Knight   2008-07-23       152   \n",
       "3       3     tt0071562    The Godfather: Part II   1975-09-25       220   \n",
       "4       4     tt0110912              Pulp Fiction   1994-10-28       154   \n",
       "..    ...           ...                       ...          ...       ...   \n",
       "69     94     tt2106476                    Jagten   2012-11-22       115   \n",
       "70     95     tt0056172        Lawrence of Arabia   1963-10-29       228   \n",
       "71     96     tt0070735                 The Sting   1974-03-21       129   \n",
       "72     97     tt0082096                  Das Boot   1982-03-18       149   \n",
       "73     99     tt1832382   Jodaeiye Nader az Simin   2011-10-21       123   \n",
       "\n",
       "    country content_rating              director      income    votes  ...  \\\n",
       "0       USA              R        Frank Darabont    28815245  2278845  ...   \n",
       "1       USA              R  Francis Ford Coppola   246120974  1572674  ...   \n",
       "2       USA          PG-13     Christopher Nolan  1005455211  2241615  ...   \n",
       "3       USA              R  Francis Ford Coppola   408035783  1098714  ...   \n",
       "4       USA              R     Quentin Tarantino   222831817  1780147  ...   \n",
       "..      ...            ...                   ...         ...      ...  ...   \n",
       "69  Denmark              R     Thomas Vinterberg    15843274   269616  ...   \n",
       "70       UK             PG            David Lean    45710874   261504  ...   \n",
       "71      USA             PG       George Roy Hill   156000000   236285  ...   \n",
       "72  Germany              R     Wolfgang Petersen    11487676   226427  ...   \n",
       "73     Iran          PG-13        Asghar Farhadi    22926076   214165  ...   \n",
       "\n",
       "    fantasy history  horror  music  mystery  romance  sci_fi  thriller  war  \\\n",
       "0         0       0       0      0        0        0       0         0    0   \n",
       "1         0       0       0      0        0        0       0         0    0   \n",
       "2         0       0       0      0        0        0       0         0    0   \n",
       "3         0       0       0      0        0        0       0         0    0   \n",
       "4         0       0       0      0        0        0       0         0    0   \n",
       "..      ...     ...     ...    ...      ...      ...     ...       ...  ...   \n",
       "69        0       0       0      0        0        0       0         0    0   \n",
       "70        0       0       0      0        0        0       0         0    0   \n",
       "71        0       0       0      0        0        0       0         0    0   \n",
       "72        0       0       0      0        0        0       0         1    0   \n",
       "73        0       0       0      0        0        0       0         0    0   \n",
       "\n",
       "    western  \n",
       "0         0  \n",
       "1         0  \n",
       "2         0  \n",
       "3         0  \n",
       "4         0  \n",
       "..      ...  \n",
       "69        0  \n",
       "70        0  \n",
       "71        0  \n",
       "72        0  \n",
       "73        0  \n",
       "\n",
       "[74 rows x 30 columns]"
      ]
     },
     "execution_count": 51,
     "metadata": {},
     "output_type": "execute_result"
    }
   ],
   "source": [
    "# one-hot encode the genre column\n",
    "df_one_hot = pd.get_dummies(df['genre'].str.split(', ', expand=True).stack()).sum(level=0)\n",
    "\n",
    "# join the one-hot encoded dataframe back to the original dataframe\n",
    "df_one_hot = pd.concat([df, df_one_hot], axis=1)\n",
    "\n",
    "# drop the genre column from the new dataframe\n",
    "df_one_hot.drop('genre', axis=1, inplace=True)\n",
    "\n",
    "# convert column names to lowercase and replace \"-\" with \"_\"\n",
    "df_one_hot.rename(columns = lambda x: x.lower().replace(\"-\", \"_\"), inplace=True)\n",
    "\n",
    "df_one_hot.reset_index(inplace=True)\n",
    "\n",
    "df_one_hot"
   ]
  },
  {
   "cell_type": "code",
   "execution_count": 53,
   "metadata": {},
   "outputs": [],
   "source": [
    "df.to_csv('clean_movie_data.csv', index=False, encoding='utf-8')\n",
    "df_one_hot.to_csv('clean_one_hot_data.csv', index=False, encoding='utf-8')"
   ]
  }
 ],
 "metadata": {
  "kernelspec": {
   "display_name": "my_env",
   "language": "python",
   "name": "python3"
  },
  "language_info": {
   "codemirror_mode": {
    "name": "ipython",
    "version": 3
   },
   "file_extension": ".py",
   "mimetype": "text/x-python",
   "name": "python",
   "nbconvert_exporter": "python",
   "pygments_lexer": "ipython3",
   "version": "3.7.12"
  },
  "orig_nbformat": 4
 },
 "nbformat": 4,
 "nbformat_minor": 2
}
